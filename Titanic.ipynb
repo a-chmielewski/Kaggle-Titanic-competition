{
 "cells": [
  {
   "cell_type": "code",
   "execution_count": 1,
   "metadata": {},
   "outputs": [
    {
     "name": "stderr",
     "output_type": "stream",
     "text": [
      "C:\\Users\\Olek\\anaconda3\\lib\\site-packages\\tpot\\builtins\\__init__.py:36: UserWarning: Warning: optional dependency `torch` is not available. - skipping import of NN models.\n",
      "  warnings.warn(\"Warning: optional dependency `torch` is not available. - skipping import of NN models.\")\n"
     ]
    }
   ],
   "source": [
    "import pandas as pd\n",
    "import re\n",
    "import numpy as np\n",
    "import matplotlib.pyplot as plt\n",
    "import seaborn as sns\n",
    "import xgboost as xgb\n",
    "from tpot import TPOTClassifier\n",
    "from sklearn.ensemble import RandomForestClassifier\n",
    "from sklearn.model_selection import KFold\n",
    "from sklearn.feature_selection import VarianceThreshold"
   ]
  },
  {
   "cell_type": "code",
   "execution_count": 2,
   "metadata": {},
   "outputs": [
    {
     "data": {
      "text/html": [
       "<div>\n",
       "<style scoped>\n",
       "    .dataframe tbody tr th:only-of-type {\n",
       "        vertical-align: middle;\n",
       "    }\n",
       "\n",
       "    .dataframe tbody tr th {\n",
       "        vertical-align: top;\n",
       "    }\n",
       "\n",
       "    .dataframe thead th {\n",
       "        text-align: right;\n",
       "    }\n",
       "</style>\n",
       "<table border=\"1\" class=\"dataframe\">\n",
       "  <thead>\n",
       "    <tr style=\"text-align: right;\">\n",
       "      <th></th>\n",
       "      <th>PassengerId</th>\n",
       "      <th>Survived</th>\n",
       "      <th>Pclass</th>\n",
       "      <th>Name</th>\n",
       "      <th>Sex</th>\n",
       "      <th>Age</th>\n",
       "      <th>SibSp</th>\n",
       "      <th>Parch</th>\n",
       "      <th>Ticket</th>\n",
       "      <th>Fare</th>\n",
       "      <th>Cabin</th>\n",
       "      <th>Embarked</th>\n",
       "    </tr>\n",
       "  </thead>\n",
       "  <tbody>\n",
       "    <tr>\n",
       "      <th>0</th>\n",
       "      <td>1</td>\n",
       "      <td>0</td>\n",
       "      <td>3</td>\n",
       "      <td>Braund, Mr. Owen Harris</td>\n",
       "      <td>male</td>\n",
       "      <td>22.0</td>\n",
       "      <td>1</td>\n",
       "      <td>0</td>\n",
       "      <td>A/5 21171</td>\n",
       "      <td>7.2500</td>\n",
       "      <td>NaN</td>\n",
       "      <td>S</td>\n",
       "    </tr>\n",
       "    <tr>\n",
       "      <th>1</th>\n",
       "      <td>2</td>\n",
       "      <td>1</td>\n",
       "      <td>1</td>\n",
       "      <td>Cumings, Mrs. John Bradley (Florence Briggs Th...</td>\n",
       "      <td>female</td>\n",
       "      <td>38.0</td>\n",
       "      <td>1</td>\n",
       "      <td>0</td>\n",
       "      <td>PC 17599</td>\n",
       "      <td>71.2833</td>\n",
       "      <td>C85</td>\n",
       "      <td>C</td>\n",
       "    </tr>\n",
       "    <tr>\n",
       "      <th>2</th>\n",
       "      <td>3</td>\n",
       "      <td>1</td>\n",
       "      <td>3</td>\n",
       "      <td>Heikkinen, Miss. Laina</td>\n",
       "      <td>female</td>\n",
       "      <td>26.0</td>\n",
       "      <td>0</td>\n",
       "      <td>0</td>\n",
       "      <td>STON/O2. 3101282</td>\n",
       "      <td>7.9250</td>\n",
       "      <td>NaN</td>\n",
       "      <td>S</td>\n",
       "    </tr>\n",
       "    <tr>\n",
       "      <th>3</th>\n",
       "      <td>4</td>\n",
       "      <td>1</td>\n",
       "      <td>1</td>\n",
       "      <td>Futrelle, Mrs. Jacques Heath (Lily May Peel)</td>\n",
       "      <td>female</td>\n",
       "      <td>35.0</td>\n",
       "      <td>1</td>\n",
       "      <td>0</td>\n",
       "      <td>113803</td>\n",
       "      <td>53.1000</td>\n",
       "      <td>C123</td>\n",
       "      <td>S</td>\n",
       "    </tr>\n",
       "    <tr>\n",
       "      <th>4</th>\n",
       "      <td>5</td>\n",
       "      <td>0</td>\n",
       "      <td>3</td>\n",
       "      <td>Allen, Mr. William Henry</td>\n",
       "      <td>male</td>\n",
       "      <td>35.0</td>\n",
       "      <td>0</td>\n",
       "      <td>0</td>\n",
       "      <td>373450</td>\n",
       "      <td>8.0500</td>\n",
       "      <td>NaN</td>\n",
       "      <td>S</td>\n",
       "    </tr>\n",
       "  </tbody>\n",
       "</table>\n",
       "</div>"
      ],
      "text/plain": [
       "   PassengerId  Survived  Pclass  \\\n",
       "0            1         0       3   \n",
       "1            2         1       1   \n",
       "2            3         1       3   \n",
       "3            4         1       1   \n",
       "4            5         0       3   \n",
       "\n",
       "                                                Name     Sex   Age  SibSp  \\\n",
       "0                            Braund, Mr. Owen Harris    male  22.0      1   \n",
       "1  Cumings, Mrs. John Bradley (Florence Briggs Th...  female  38.0      1   \n",
       "2                             Heikkinen, Miss. Laina  female  26.0      0   \n",
       "3       Futrelle, Mrs. Jacques Heath (Lily May Peel)  female  35.0      1   \n",
       "4                           Allen, Mr. William Henry    male  35.0      0   \n",
       "\n",
       "   Parch            Ticket     Fare Cabin Embarked  \n",
       "0      0         A/5 21171   7.2500   NaN        S  \n",
       "1      0          PC 17599  71.2833   C85        C  \n",
       "2      0  STON/O2. 3101282   7.9250   NaN        S  \n",
       "3      0            113803  53.1000  C123        S  \n",
       "4      0            373450   8.0500   NaN        S  "
      ]
     },
     "execution_count": 2,
     "metadata": {},
     "output_type": "execute_result"
    }
   ],
   "source": [
    "train = pd.read_csv('train.csv')\n",
    "test = pd.read_csv('test.csv')\n",
    "train.head()"
   ]
  },
  {
   "cell_type": "code",
   "execution_count": 3,
   "metadata": {},
   "outputs": [
    {
     "name": "stdout",
     "output_type": "stream",
     "text": [
      "<class 'pandas.core.frame.DataFrame'>\n",
      "RangeIndex: 891 entries, 0 to 890\n",
      "Data columns (total 12 columns):\n",
      " #   Column       Non-Null Count  Dtype  \n",
      "---  ------       --------------  -----  \n",
      " 0   PassengerId  891 non-null    int64  \n",
      " 1   Survived     891 non-null    int64  \n",
      " 2   Pclass       891 non-null    int64  \n",
      " 3   Name         891 non-null    object \n",
      " 4   Sex          891 non-null    object \n",
      " 5   Age          714 non-null    float64\n",
      " 6   SibSp        891 non-null    int64  \n",
      " 7   Parch        891 non-null    int64  \n",
      " 8   Ticket       891 non-null    object \n",
      " 9   Fare         891 non-null    float64\n",
      " 10  Cabin        204 non-null    object \n",
      " 11  Embarked     889 non-null    object \n",
      "dtypes: float64(2), int64(5), object(5)\n",
      "memory usage: 83.7+ KB\n"
     ]
    }
   ],
   "source": [
    "train.info()"
   ]
  },
  {
   "cell_type": "code",
   "execution_count": 4,
   "metadata": {},
   "outputs": [],
   "source": [
    "#checking ticket type\n",
    "train['Ticket_type'] = train['Ticket'].apply(lambda x: x[0:3])\n",
    "train['Ticket_type'] = train['Ticket_type'].astype('category')\n",
    "train['Ticket_type'] = train['Ticket_type'].cat.codes\n",
    "\n",
    "test['Ticket_type'] = test['Ticket'].apply(lambda x: x[0:3])\n",
    "test['Ticket_type'] = test['Ticket_type'].astype('category')\n",
    "test['Ticket_type'] = test['Ticket_type'].cat.codes"
   ]
  },
  {
   "cell_type": "code",
   "execution_count": 5,
   "metadata": {},
   "outputs": [
    {
     "data": {
      "text/plain": [
       "137    60\n",
       "83     53\n",
       "81     48\n",
       "3      47\n",
       "130    28\n",
       "       ..\n",
       "68      1\n",
       "29      1\n",
       "28      1\n",
       "26      1\n",
       "80      1\n",
       "Name: Ticket_type, Length: 154, dtype: int64"
      ]
     },
     "execution_count": 5,
     "metadata": {},
     "output_type": "execute_result"
    }
   ],
   "source": [
    "train['Ticket_type'].value_counts()"
   ]
  },
  {
   "cell_type": "code",
   "execution_count": 6,
   "metadata": {},
   "outputs": [],
   "source": [
    "#Testing if passenger had a cabin\n",
    "train['Cabin'] = train['Cabin'].apply(lambda x: 0 if type(x) == float else 1)\n",
    "test['Cabin'] = test['Cabin'].apply(lambda x: 0 if type(x) == float else 1)"
   ]
  },
  {
   "cell_type": "code",
   "execution_count": 7,
   "metadata": {},
   "outputs": [
    {
     "name": "stderr",
     "output_type": "stream",
     "text": [
      "C:\\Users\\Olek\\anaconda3\\lib\\site-packages\\ipykernel_launcher.py:21: SettingWithCopyWarning: \n",
      "A value is trying to be set on a copy of a slice from a DataFrame\n",
      "\n",
      "See the caveats in the documentation: https://pandas.pydata.org/pandas-docs/stable/user_guide/indexing.html#returning-a-view-versus-a-copy\n"
     ]
    }
   ],
   "source": [
    "full_data = [train, test]\n",
    "for ds in full_data:\n",
    "    #creating new feature Family_size as a combination of siblings, spouses, parents and kids on board\n",
    "    ds['Family_size'] = ds['SibSp'] + ds['Parch'] + 1 \n",
    "    #checking if anybody was travelling alone\n",
    "    ds['IsAlone'] = 0\n",
    "    ds.loc[ds['Family_size']==1, 'IsAlone'] = 1\n",
    "    #removing nulls from Embarked and Fare cols\n",
    "    ds['Embarked'] = ds['Embarked'].fillna('S')\n",
    "    ds['Fare'] = ds['Fare'].fillna(ds['Fare'].median())\n",
    "\n",
    "#creating categorical fare column\n",
    "train['Cat_Fare'] = pd.qcut(train['Fare'], 4)\n",
    "\n",
    "#creating categorical age column\n",
    "for dataset in full_data:\n",
    "    age_avg = dataset['Age'].mean()\n",
    "    age_std = dataset['Age'].std()\n",
    "    age_null_count = dataset['Age'].isnull().sum()\n",
    "    age_null_random_list = np.random.randint(age_avg - age_std, age_avg + age_std, size=age_null_count)\n",
    "    dataset['Age'][np.isnan(dataset['Age'])] = age_null_random_list\n",
    "    dataset['Age'] = dataset['Age'].astype(int)\n",
    "train['Cat_Age'] = pd.cut(train['Age'], 5)\n",
    "\n",
    "# Define function to extract titles from passenger names\n",
    "def get_title(name):\n",
    "    title_search = re.search(' ([A-Za-z]+)\\.', name)\n",
    "    # If the title exists, extract and return it.\n",
    "    if title_search:\n",
    "        return title_search.group(1)\n",
    "    return \"\"\n",
    "\n",
    "for dataset in full_data:\n",
    "    dataset['Title'] = dataset['Name'].apply(get_title)\n",
    "    # Group all non-common titles into one single grouping \"Rare\"\n",
    "    dataset['Title'] = dataset['Title'].replace(['Lady', 'Countess','Capt', 'Col','Don', 'Dr', 'Major', 'Rev', 'Sir', 'Jonkheer', 'Dona'], 'Rare')\n",
    "    dataset['Title'] = dataset['Title'].replace('Mlle', 'Miss')\n",
    "    dataset['Title'] = dataset['Title'].replace('Ms', 'Miss')\n",
    "    dataset['Title'] = dataset['Title'].replace('Mme', 'Mrs')\n",
    "    \n",
    "    # Mapping titles\n",
    "    title_mapping = {\"Mr\": 1, \"Miss\": 2, \"Mrs\": 3, \"Master\": 4, \"Rare\": 5}\n",
    "    dataset['Title'] = dataset['Title'].map(title_mapping)\n",
    "    dataset['Title'] = dataset['Title'].fillna(0)\n",
    "    \n",
    "    # Mapping Sex\n",
    "    dataset['Sex'] = dataset['Sex'].map( {'female': 0, 'male': 1} ).astype(int)\n",
    "    \n",
    "    # Mapping Embarked\n",
    "    dataset['Embarked'] = dataset['Embarked'].map( {'S': 0, 'C': 1, 'Q': 2} ).astype(int)\n",
    "    \n",
    "    # Mapping Fare\n",
    "    dataset.loc[ dataset['Fare'] <= 7.91, 'Fare'] \t\t\t\t\t\t        = 0\n",
    "    dataset.loc[(dataset['Fare'] > 7.91) & (dataset['Fare'] <= 14.454), 'Fare'] = 1\n",
    "    dataset.loc[(dataset['Fare'] > 14.454) & (dataset['Fare'] <= 31), 'Fare']   = 2\n",
    "    dataset.loc[ dataset['Fare'] > 31, 'Fare'] \t\t\t\t\t\t\t        = 3\n",
    "    dataset['Fare'] = dataset['Fare'].astype(int)\n",
    "    \n",
    "    # Mapping Age\n",
    "    dataset.loc[ dataset['Age'] <= 16, 'Age'] \t\t\t\t\t       = 0\n",
    "    dataset.loc[(dataset['Age'] > 16) & (dataset['Age'] <= 32), 'Age'] = 1\n",
    "    dataset.loc[(dataset['Age'] > 32) & (dataset['Age'] <= 48), 'Age'] = 2\n",
    "    dataset.loc[(dataset['Age'] > 48) & (dataset['Age'] <= 64), 'Age'] = 3\n",
    "    dataset.loc[ dataset['Age'] > 64, 'Age'] = 4\n",
    "    "
   ]
  },
  {
   "cell_type": "code",
   "execution_count": 8,
   "metadata": {},
   "outputs": [],
   "source": [
    "# Feature selection\n",
    "drop_elements = ['PassengerId', 'Name', 'Ticket', 'Cabin', 'SibSp']\n",
    "train = train.drop(drop_elements, axis = 1)\n",
    "train = train.drop(['Cat_Age', 'Cat_Fare'], axis = 1)\n",
    "test  = test.drop(drop_elements, axis = 1)"
   ]
  },
  {
   "cell_type": "code",
   "execution_count": 9,
   "metadata": {},
   "outputs": [
    {
     "data": {
      "text/html": [
       "<div>\n",
       "<style scoped>\n",
       "    .dataframe tbody tr th:only-of-type {\n",
       "        vertical-align: middle;\n",
       "    }\n",
       "\n",
       "    .dataframe tbody tr th {\n",
       "        vertical-align: top;\n",
       "    }\n",
       "\n",
       "    .dataframe thead th {\n",
       "        text-align: right;\n",
       "    }\n",
       "</style>\n",
       "<table border=\"1\" class=\"dataframe\">\n",
       "  <thead>\n",
       "    <tr style=\"text-align: right;\">\n",
       "      <th></th>\n",
       "      <th>Survived</th>\n",
       "      <th>Pclass</th>\n",
       "      <th>Sex</th>\n",
       "      <th>Age</th>\n",
       "      <th>Parch</th>\n",
       "      <th>Fare</th>\n",
       "      <th>Embarked</th>\n",
       "      <th>Ticket_type</th>\n",
       "      <th>Family_size</th>\n",
       "      <th>IsAlone</th>\n",
       "      <th>Title</th>\n",
       "    </tr>\n",
       "  </thead>\n",
       "  <tbody>\n",
       "    <tr>\n",
       "      <th>0</th>\n",
       "      <td>0</td>\n",
       "      <td>3</td>\n",
       "      <td>1</td>\n",
       "      <td>1</td>\n",
       "      <td>0</td>\n",
       "      <td>0</td>\n",
       "      <td>0</td>\n",
       "      <td>124</td>\n",
       "      <td>2</td>\n",
       "      <td>0</td>\n",
       "      <td>1</td>\n",
       "    </tr>\n",
       "    <tr>\n",
       "      <th>1</th>\n",
       "      <td>1</td>\n",
       "      <td>1</td>\n",
       "      <td>0</td>\n",
       "      <td>2</td>\n",
       "      <td>0</td>\n",
       "      <td>3</td>\n",
       "      <td>1</td>\n",
       "      <td>137</td>\n",
       "      <td>2</td>\n",
       "      <td>0</td>\n",
       "      <td>3</td>\n",
       "    </tr>\n",
       "    <tr>\n",
       "      <th>2</th>\n",
       "      <td>1</td>\n",
       "      <td>3</td>\n",
       "      <td>0</td>\n",
       "      <td>1</td>\n",
       "      <td>0</td>\n",
       "      <td>1</td>\n",
       "      <td>0</td>\n",
       "      <td>148</td>\n",
       "      <td>1</td>\n",
       "      <td>1</td>\n",
       "      <td>2</td>\n",
       "    </tr>\n",
       "    <tr>\n",
       "      <th>3</th>\n",
       "      <td>1</td>\n",
       "      <td>1</td>\n",
       "      <td>0</td>\n",
       "      <td>2</td>\n",
       "      <td>0</td>\n",
       "      <td>3</td>\n",
       "      <td>0</td>\n",
       "      <td>3</td>\n",
       "      <td>2</td>\n",
       "      <td>0</td>\n",
       "      <td>3</td>\n",
       "    </tr>\n",
       "    <tr>\n",
       "      <th>4</th>\n",
       "      <td>0</td>\n",
       "      <td>3</td>\n",
       "      <td>1</td>\n",
       "      <td>2</td>\n",
       "      <td>0</td>\n",
       "      <td>1</td>\n",
       "      <td>0</td>\n",
       "      <td>97</td>\n",
       "      <td>1</td>\n",
       "      <td>1</td>\n",
       "      <td>1</td>\n",
       "    </tr>\n",
       "  </tbody>\n",
       "</table>\n",
       "</div>"
      ],
      "text/plain": [
       "   Survived  Pclass  Sex  Age  Parch  Fare  Embarked  Ticket_type  \\\n",
       "0         0       3    1    1      0     0         0          124   \n",
       "1         1       1    0    2      0     3         1          137   \n",
       "2         1       3    0    1      0     1         0          148   \n",
       "3         1       1    0    2      0     3         0            3   \n",
       "4         0       3    1    2      0     1         0           97   \n",
       "\n",
       "   Family_size  IsAlone  Title  \n",
       "0            2        0      1  \n",
       "1            2        0      3  \n",
       "2            1        1      2  \n",
       "3            2        0      3  \n",
       "4            1        1      1  "
      ]
     },
     "execution_count": 9,
     "metadata": {},
     "output_type": "execute_result"
    }
   ],
   "source": [
    "train.head()"
   ]
  },
  {
   "cell_type": "code",
   "execution_count": 10,
   "metadata": {},
   "outputs": [
    {
     "data": {
      "text/plain": [
       "<AxesSubplot:title={'center':'Pearson Correlation of Features'}>"
      ]
     },
     "execution_count": 10,
     "metadata": {},
     "output_type": "execute_result"
    },
    {
     "data": {
      "image/png": "[encoded data removed]",
      "text/plain": [
       "<Figure size 1008x864 with 2 Axes>"
      ]
     },
     "metadata": {
      "needs_background": "light"
     },
     "output_type": "display_data"
    }
   ],
   "source": [
    "colormap = plt.cm.RdBu\n",
    "plt.figure(figsize=(14,12))\n",
    "plt.title('Pearson Correlation of Features', y=1.05, size=15)\n",
    "sns.heatmap(train.astype(float).corr(),linewidths=0.1,vmax=1.0, \n",
    "            square=True, cmap=colormap, linecolor='white', annot=True)"
   ]
  },
  {
   "cell_type": "code",
   "execution_count": 11,
   "metadata": {},
   "outputs": [],
   "source": [
    "y_train = train['Survived'].ravel()\n",
    "train = train.drop(['Survived'], axis=1)"
   ]
  },
  {
   "cell_type": "code",
   "execution_count": 12,
   "metadata": {},
   "outputs": [
    {
     "name": "stdout",
     "output_type": "stream",
     "text": [
      "Requirement already satisfied: pip in c:\\users\\olek\\anaconda3\\lib\\site-packages (20.3.3)\n"
     ]
    }
   ],
   "source": [
    "!pip install --upgrade --user pip"
   ]
  },
  {
   "cell_type": "code",
   "execution_count": 13,
   "metadata": {},
   "outputs": [
    {
     "name": "stderr",
     "output_type": "stream",
     "text": [
      "C:\\Users\\Olek\\anaconda3\\lib\\site-packages\\sklearn\\model_selection\\_split.py:297: FutureWarning: Setting a random_state has no effect since shuffle is False. This will raise an error in 0.24. You should leave random_state to its default (None), or set shuffle=True.\n",
      "  FutureWarning\n"
     ]
    }
   ],
   "source": [
    "cv = KFold(n_splits=10, random_state=111)\n",
    "model = TPOTClassifier(generations=20, population_size=40, cv=cv, scoring='accuracy', verbosity=2)"
   ]
  },
  {
   "cell_type": "code",
   "execution_count": 14,
   "metadata": {},
   "outputs": [
    {
     "data": {
      "application/vnd.jupyter.widget-view+json": {
       "model_id": "2a5ddffe9e924f4dae842c200bf91255",
       "version_major": 2,
       "version_minor": 0
      },
      "text/plain": [
       "Optimization Progress:   0%|          | 0/840 [00:00<?, ?pipeline/s]"
      ]
     },
     "metadata": {},
     "output_type": "display_data"
    },
    {
     "name": "stdout",
     "output_type": "stream",
     "text": [
      "\n",
      "Generation 1 - Current best internal CV score: 0.836154806491885\n",
      "\n",
      "Generation 2 - Current best internal CV score: 0.836154806491885\n",
      "\n",
      "Generation 3 - Current best internal CV score: 0.836154806491885\n",
      "\n",
      "Generation 4 - Current best internal CV score: 0.8395880149812734\n",
      "\n",
      "Generation 5 - Current best internal CV score: 0.8395880149812734\n",
      "\n",
      "Generation 6 - Current best internal CV score: 0.845143570536829\n",
      "\n",
      "Generation 7 - Current best internal CV score: 0.8462671660424469\n",
      "\n",
      "Generation 8 - Current best internal CV score: 0.8462671660424469\n",
      "\n",
      "Generation 9 - Current best internal CV score: 0.8462671660424469\n",
      "\n",
      "Generation 10 - Current best internal CV score: 0.849612983770287\n",
      "\n",
      "Generation 11 - Current best internal CV score: 0.8518851435705368\n",
      "\n",
      "Generation 12 - Current best internal CV score: 0.8518851435705368\n",
      "\n",
      "Generation 13 - Current best internal CV score: 0.8541198501872659\n",
      "\n",
      "Generation 14 - Current best internal CV score: 0.8541198501872659\n",
      "\n",
      "Generation 15 - Current best internal CV score: 0.8541198501872659\n",
      "\n",
      "Generation 16 - Current best internal CV score: 0.8552434456928839\n",
      "\n",
      "Generation 17 - Current best internal CV score: 0.8552434456928839\n",
      "\n",
      "Generation 18 - Current best internal CV score: 0.8552434456928839\n",
      "\n",
      "Generation 19 - Current best internal CV score: 0.8552434456928839\n",
      "\n",
      "Generation 20 - Current best internal CV score: 0.8552434456928839\n",
      "\n",
      "Best pipeline: ExtraTreesClassifier(RandomForestClassifier(MinMaxScaler(input_matrix), bootstrap=True, criterion=gini, max_features=0.8, min_samples_leaf=3, min_samples_split=4, n_estimators=100), bootstrap=True, criterion=gini, max_features=0.1, min_samples_leaf=8, min_samples_split=15, n_estimators=100)\n"
     ]
    },
    {
     "data": {
      "text/plain": [
       "TPOTClassifier(cv=KFold(n_splits=10, random_state=111, shuffle=False),\n",
       "               generations=20, population_size=40, scoring='accuracy',\n",
       "               verbosity=2)"
      ]
     },
     "execution_count": 14,
     "metadata": {},
     "output_type": "execute_result"
    }
   ],
   "source": [
    "model.fit(train, y_train)"
   ]
  },
  {
   "cell_type": "code",
   "execution_count": 15,
   "metadata": {},
   "outputs": [
    {
     "name": "stderr",
     "output_type": "stream",
     "text": [
      "C:\\Users\\Olek\\anaconda3\\lib\\site-packages\\sklearn\\model_selection\\_split.py:297: FutureWarning: Setting a random_state has no effect since shuffle is False. This will raise an error in 0.24. You should leave random_state to its default (None), or set shuffle=True.\n",
      "  FutureWarning\n"
     ]
    },
    {
     "data": {
      "application/vnd.jupyter.widget-view+json": {
       "model_id": "b9ae25d2cd6f491eabb7e9597207a37f",
       "version_major": 2,
       "version_minor": 0
      },
      "text/plain": [
       "Optimization Progress:   0%|          | 0/2100 [00:00<?, ?pipeline/s]"
      ]
     },
     "metadata": {},
     "output_type": "display_data"
    },
    {
     "name": "stdout",
     "output_type": "stream",
     "text": [
      "\n",
      "Generation 1 - Current best internal CV score: 0.8395016006528152\n",
      "\n",
      "Generation 2 - Current best internal CV score: 0.8395016006528152\n",
      "\n",
      "Generation 3 - Current best internal CV score: 0.8440085368150149\n",
      "\n",
      "Generation 4 - Current best internal CV score: 0.8440085368150149\n",
      "\n",
      "Generation 5 - Current best internal CV score: 0.8440148138848785\n",
      "\n",
      "Generation 6 - Current best internal CV score: 0.8440148138848785\n",
      "\n",
      "Generation 7 - Current best internal CV score: 0.8473856004017325\n",
      "\n",
      "Generation 8 - Current best internal CV score: 0.848496641767623\n",
      "\n",
      "Generation 9 - Current best internal CV score: 0.848496641767623\n",
      "\n",
      "Generation 10 - Current best internal CV score: 0.848496641767623\n",
      "\n",
      "Generation 11 - Current best internal CV score: 0.8529847467202311\n",
      "\n",
      "Generation 12 - Current best internal CV score: 0.8574602975331116\n",
      "\n",
      "Generation 13 - Current best internal CV score: 0.8574602975331116\n",
      "\n",
      "Generation 14 - Current best internal CV score: 0.8574602975331116\n",
      "\n",
      "Generation 15 - Current best internal CV score: 0.8574602975331116\n",
      "\n",
      "Generation 16 - Current best internal CV score: 0.8574602975331116\n",
      "\n",
      "Generation 17 - Current best internal CV score: 0.8574602975331116\n",
      "\n",
      "Generation 18 - Current best internal CV score: 0.8574602975331116\n",
      "\n",
      "Generation 19 - Current best internal CV score: 0.8574602975331116\n",
      "\n",
      "Generation 20 - Current best internal CV score: 0.8574602975331116\n",
      "\n",
      "Best pipeline: GradientBoostingClassifier(SGDClassifier(RandomForestClassifier(SGDClassifier(input_matrix, alpha=0.001, eta0=1.0, fit_intercept=False, l1_ratio=0.75, learning_rate=constant, loss=modified_huber, penalty=elasticnet, power_t=1.0), bootstrap=False, criterion=gini, max_features=0.9000000000000001, min_samples_leaf=5, min_samples_split=9, n_estimators=100), alpha=0.01, eta0=0.1, fit_intercept=True, l1_ratio=0.5, learning_rate=invscaling, loss=log, penalty=elasticnet, power_t=0.1), learning_rate=0.01, max_depth=4, max_features=0.8500000000000001, min_samples_leaf=19, min_samples_split=13, n_estimators=100, subsample=0.55)\n"
     ]
    },
    {
     "data": {
      "text/plain": [
       "TPOTClassifier(cv=KFold(n_splits=5, random_state=111, shuffle=False),\n",
       "               generations=20, scoring='accuracy', verbosity=2)"
      ]
     },
     "execution_count": 15,
     "metadata": {},
     "output_type": "execute_result"
    }
   ],
   "source": [
    "cv2 = KFold(n_splits=5, random_state=111)\n",
    "model2 = TPOTClassifier(generations=20, population_size=100, cv=cv2, scoring='accuracy', verbosity=2)\n",
    "model2.fit(train, y_train)"
   ]
  },
  {
   "cell_type": "code",
   "execution_count": 20,
   "metadata": {},
   "outputs": [],
   "source": [
    "from sklearn.model_selection import RandomizedSearchCV\n",
    "from sklearn.linear_model import LogisticRegression"
   ]
  },
  {
   "cell_type": "code",
   "execution_count": 23,
   "metadata": {},
   "outputs": [
    {
     "name": "stdout",
     "output_type": "stream",
     "text": [
      "Fitting 5 folds for each of 100 candidates, totalling 500 fits\n"
     ]
    },
    {
     "name": "stderr",
     "output_type": "stream",
     "text": [
      "[Parallel(n_jobs=-1)]: Using backend LokyBackend with 16 concurrent workers.\n",
      "[Parallel(n_jobs=-1)]: Done   9 tasks      | elapsed:    0.0s\n"
     ]
    },
    {
     "name": "stdout",
     "output_type": "stream",
     "text": [
      "LogisticRegression(C=0.8, max_iter=50, n_jobs=-1, random_state=111)\n",
      "{'tol': 0.0001, 'random_state': 111, 'penalty': 'l2', 'n_jobs': -1, 'max_iter': 50, 'fit_intercept': True, 'class_weight': None, 'C': 0.8}\n",
      "0.8092021844203126\n"
     ]
    },
    {
     "name": "stderr",
     "output_type": "stream",
     "text": [
      "[Parallel(n_jobs=-1)]: Done 500 out of 500 | elapsed:    2.0s finished\n"
     ]
    }
   ],
   "source": [
    "lr_grid = {'penalty': ['l1', 'l2', 'elasticnet', 'none'],\n",
    "           'tol': [1e-4, 1e-3, 1e-2],\n",
    "           'C': [0.1, 0.3, 0.6, 0.8, 1, 1.5, 2],\n",
    "           'fit_intercept': [True, False],\n",
    "           'class_weight': [None, 'balanced'],\n",
    "           'max_iter': [50, 100, 200, 400, 500],\n",
    "           'random_state': [111],\n",
    "           'n_jobs': [-1]}\n",
    "lr_rscv = RandomizedSearchCV(estimator=LogisticRegression(), param_distributions=lr_grid, n_iter=100, scoring='accuracy', n_jobs=-1, cv=5, random_state=111, verbose=2).fit(train, y_train)\n",
    "print(lr_rscv.best_estimator_)\n",
    "print(lr_rscv.best_params_)\n",
    "print(lr_rscv.best_score_)"
   ]
  },
  {
   "cell_type": "code",
   "execution_count": 24,
   "metadata": {},
   "outputs": [
    {
     "name": "stdout",
     "output_type": "stream",
     "text": [
      "Fitting 5 folds for each of 100 candidates, totalling 500 fits\n"
     ]
    },
    {
     "name": "stderr",
     "output_type": "stream",
     "text": [
      "[Parallel(n_jobs=-1)]: Using backend LokyBackend with 16 concurrent workers.\n",
      "[Parallel(n_jobs=-1)]: Done   9 tasks      | elapsed:    1.8s\n",
      "[Parallel(n_jobs=-1)]: Done 130 tasks      | elapsed:    2.8s\n",
      "[Parallel(n_jobs=-1)]: Done 333 tasks      | elapsed:    4.3s\n"
     ]
    },
    {
     "name": "stdout",
     "output_type": "stream",
     "text": [
      "KNeighborsClassifier(algorithm='ball_tree', leaf_size=40, n_jobs=-1, p=1,\n",
      "                     weights='distance')\n",
      "{'weights': 'distance', 'p': 1, 'n_neighbors': 5, 'n_jobs': -1, 'leaf_size': 40, 'algorithm': 'ball_tree'}\n",
      "0.8069612704789405\n"
     ]
    },
    {
     "name": "stderr",
     "output_type": "stream",
     "text": [
      "[Parallel(n_jobs=-1)]: Done 500 out of 500 | elapsed:    5.5s finished\n"
     ]
    }
   ],
   "source": [
    "from sklearn.neighbors import KNeighborsClassifier\n",
    "knn_grid = {'n_neighbors': [2, 3, 4, 5, 6, 8, 9, 10, 12, 15, 17, 20],\n",
    "            'weights': ['uniform', 'distance'],\n",
    "            'algorithm': ['auto', 'ball_tree', 'kd_tree', 'brute'],\n",
    "            'leaf_size': [10, 20, 30, 40, 50],\n",
    "            'p': [1,2],\n",
    "            'n_jobs': [-1]}\n",
    "knn_rscv = RandomizedSearchCV(estimator=KNeighborsClassifier(), param_distributions=knn_grid, n_iter=100, scoring='accuracy', n_jobs=-1, cv=5, random_state=111, verbose=2).fit(train, y_train)\n",
    "print(knn_rscv.best_estimator_)\n",
    "print(knn_rscv.best_params_)\n",
    "print(knn_rscv.best_score_)"
   ]
  },
  {
   "cell_type": "code",
   "execution_count": 27,
   "metadata": {},
   "outputs": [
    {
     "name": "stdout",
     "output_type": "stream",
     "text": [
      "Fitting 5 folds for each of 100 candidates, totalling 500 fits\n"
     ]
    },
    {
     "name": "stderr",
     "output_type": "stream",
     "text": [
      "[Parallel(n_jobs=-1)]: Using backend LokyBackend with 16 concurrent workers.\n",
      "[Parallel(n_jobs=-1)]: Done   9 tasks      | elapsed:    0.0s\n"
     ]
    },
    {
     "name": "stdout",
     "output_type": "stream",
     "text": [
      "SVC(C=1.5, gamma=0.1, random_state=111, tol=0.01)\n",
      "{'tol': 0.01, 'random_state': 111, 'max_iter': -1, 'kernel': 'rbf', 'gamma': 0.1, 'decision_function_shape': 'ovr', 'class_weight': None, 'C': 1.5}\n",
      "0.827185989580064\n"
     ]
    },
    {
     "name": "stderr",
     "output_type": "stream",
     "text": [
      "[Parallel(n_jobs=-1)]: Done 500 out of 500 | elapsed:    0.8s finished\n"
     ]
    }
   ],
   "source": [
    "from sklearn.svm import SVC\n",
    "svc_grid = {'C': [0.1, 0.3, 0.6, 0.8, 1, 1.5, 2, 5, 10],\n",
    "             'gamma': [0.1,0.01, 'auto', 'scale'],\n",
    "             'kernel': ['rbf', 'sigmoid'],\n",
    "             'tol': [1e-4, 1e-3, 1e-2],\n",
    "             'class_weight': [None, 'balanced'],\n",
    "             'max_iter': [-1],\n",
    "             'decision_function_shape': ['ovo', 'ovr'],\n",
    "             'random_state': [111]}\n",
    "svc_rscv = RandomizedSearchCV(estimator=SVC(), param_distributions=svc_grid, n_iter=100, scoring='accuracy', n_jobs=-1, cv=5, random_state=111, verbose=2).fit(train, y_train)\n",
    "print(svc_rscv.best_estimator_)\n",
    "print(svc_rscv.best_params_)\n",
    "print(svc_rscv.best_score_)"
   ]
  },
  {
   "cell_type": "code",
   "execution_count": 29,
   "metadata": {},
   "outputs": [
    {
     "name": "stdout",
     "output_type": "stream",
     "text": [
      "Fitting 5 folds for each of 100 candidates, totalling 500 fits\n"
     ]
    },
    {
     "name": "stderr",
     "output_type": "stream",
     "text": [
      "[Parallel(n_jobs=-1)]: Using backend LokyBackend with 16 concurrent workers.\n",
      "[Parallel(n_jobs=-1)]: Done   9 tasks      | elapsed:    0.0s\n"
     ]
    },
    {
     "name": "stdout",
     "output_type": "stream",
     "text": [
      "DecisionTreeClassifier(criterion='entropy', max_depth=4, min_samples_split=12,\n",
      "                       random_state=111)\n",
      "{'splitter': 'best', 'random_state': 111, 'min_samples_split': 12, 'max_features': None, 'max_depth': 4, 'criterion': 'entropy'}\n",
      "0.8260121775155357\n"
     ]
    },
    {
     "name": "stderr",
     "output_type": "stream",
     "text": [
      "[Parallel(n_jobs=-1)]: Done 500 out of 500 | elapsed:    0.3s finished\n"
     ]
    }
   ],
   "source": [
    "from sklearn.tree import DecisionTreeClassifier\n",
    "dt_grid = {'max_depth': [1, 2, 3, 4,5],\n",
    "           'max_features': ['auto', 'sqrt', 'log2', None],\n",
    "           'min_samples_split': [1, 2, 4, 6, 8, 10, 12, 16, 20, 24],\n",
    "           'criterion': ['gini', 'entropy'],\n",
    "           'splitter': ['random', 'best'],\n",
    "           'random_state': [111]}\n",
    "dt_rscv = RandomizedSearchCV(estimator=DecisionTreeClassifier(), param_distributions=dt_grid, n_iter=100, scoring='accuracy', n_jobs=-1, cv=5, random_state=111, verbose=2).fit(train, y_train)\n",
    "print(dt_rscv.best_estimator_)\n",
    "print(dt_rscv.best_params_)\n",
    "print(dt_rscv.best_score_)"
   ]
  },
  {
   "cell_type": "code",
   "execution_count": 31,
   "metadata": {},
   "outputs": [
    {
     "name": "stdout",
     "output_type": "stream",
     "text": [
      "Fitting 5 folds for each of 100 candidates, totalling 500 fits\n"
     ]
    },
    {
     "name": "stderr",
     "output_type": "stream",
     "text": [
      "[Parallel(n_jobs=-1)]: Using backend LokyBackend with 16 concurrent workers.\n",
      "[Parallel(n_jobs=-1)]: Done   9 tasks      | elapsed:    3.6s\n",
      "[Parallel(n_jobs=-1)]: Done 130 tasks      | elapsed:   23.4s\n",
      "[Parallel(n_jobs=-1)]: Done 333 tasks      | elapsed:   54.5s\n",
      "[Parallel(n_jobs=-1)]: Done 500 out of 500 | elapsed:  1.4min finished\n"
     ]
    },
    {
     "name": "stdout",
     "output_type": "stream",
     "text": [
      "RandomForestClassifier(bootstrap=False, class_weight='balanced_subsample',\n",
      "                       max_depth=7, min_samples_leaf=4, n_estimators=1400,\n",
      "                       n_jobs=-1, random_state=111)\n",
      "{'random_state': 111, 'n_jobs': -1, 'n_estimators': 1400, 'min_samples_split': 2, 'min_samples_leaf': 4, 'max_features': 'auto', 'max_depth': 7, 'criterion': 'gini', 'class_weight': 'balanced_subsample', 'bootstrap': False}\n",
      "0.8395141547925429\n"
     ]
    }
   ],
   "source": [
    "rf_grid = {'bootstrap': [True, False],\n",
    "            'max_depth': [1, 2, 3, 4, 5, 6,7, 8, 9,10, None],\n",
    "            'max_features': ['auto', 'sqrt'],\n",
    "            'min_samples_leaf': [1, 2, 4],\n",
    "            'min_samples_split': [2, 5, 10],\n",
    "            'n_estimators': [100, 200, 400, 600, 800, 1000, 1200, 1400, 1600, 1800, 2000],\n",
    "            'criterion': ['gini', 'entropy'],\n",
    "            'n_jobs': [-1],\n",
    "            'random_state': [111],\n",
    "            'class_weight': [None, 'balanced', 'balanced_subsample']}\n",
    "rf_rscv = RandomizedSearchCV(estimator=RandomForestClassifier(), param_distributions=rf_grid, n_iter=100, scoring='accuracy', n_jobs=-1, cv=5, random_state=111, verbose=2).fit(train, y_train)\n",
    "print(rf_rscv.best_estimator_)\n",
    "print(rf_rscv.best_params_)\n",
    "print(rf_rscv.best_score_)"
   ]
  },
  {
   "cell_type": "code",
   "execution_count": 33,
   "metadata": {},
   "outputs": [
    {
     "data": {
      "text/plain": [
       "0.8765432098765432"
      ]
     },
     "execution_count": 33,
     "metadata": {},
     "output_type": "execute_result"
    }
   ],
   "source": [
    "from sklearn.ensemble import VotingClassifier\n",
    "from sklearn.naive_bayes import GaussianNB\n",
    "\n",
    "clf1_lr = LogisticRegression(tol=0.0001, random_state=111, penalty='l2', n_jobs=-1, max_iter=50, fit_intercept=True, class_weight=None, C=0.8)\n",
    "clf2_knn = KNeighborsClassifier(weights='distance', p=1, n_neighbors=5, n_jobs=-1, leaf_size=40, algorithm='ball_tree')\n",
    "clf3_svc = SVC(C=1.5, gamma=0.1, random_state=111, tol=0.01)\n",
    "clf4_gnb = GaussianNB()\n",
    "clf5_dt = DecisionTreeClassifier(criterion='entropy', max_depth=4, min_samples_split=12, random_state=111)\n",
    "clf6_rf = RandomForestClassifier(bootstrap=False, class_weight='balanced_subsample', max_depth=7, min_samples_leaf=4, n_estimators=1400, n_jobs=-1, random_state=111)\n",
    "clf7_xgb = xgb.XGBClassifier(n_estimators= 2000, max_depth= 4, min_child_weight= 2, colsample_bytree=0.8, objective= 'binary:logistic', nthread= -1, scale_pos_weight=1)\n",
    "\n",
    "vc = VotingClassifier(estimators=[('lr', clf1_lr), ('knn', clf2_knn), ('svc', clf3_svc), ('gnb', clf4_gnb), ('dt', clf5_dt), ('rf', clf6_rf), ('xgb',clf7_xgb)], n_jobs=-1)\n",
    "vc.fit(train, y_train)\n",
    "vc.score(train, y_train)"
   ]
  },
  {
   "cell_type": "code",
   "execution_count": 34,
   "metadata": {},
   "outputs": [],
   "source": [
    "preds = vc.predict(test)"
   ]
  },
  {
   "cell_type": "code",
   "execution_count": 37,
   "metadata": {},
   "outputs": [],
   "source": [
    "clf7_xgb = xgb.XGBClassifier(n_estimators= 2000, max_depth= 4, min_child_weight= 2, colsample_bytree=0.8, objective= 'binary:logistic', nthread= -1, scale_pos_weight=1).fit(train, y_train)\n",
    "xgb_predictions = clf7_xgb.predict(test)\n",
    "est2 = pd.read_csv('test.csv')\n",
    "StackingSubmission = pd.DataFrame({ \"PassengerId\": test2[\"PassengerId\"],\n",
    "                            'Survived': xgb_predictions })"
   ]
  },
  {
   "cell_type": "code",
   "execution_count": 35,
   "metadata": {},
   "outputs": [],
   "source": [
    "test2 = pd.read_csv('test.csv')\n",
    "\n",
    "submission = pd.DataFrame({\n",
    "        \"PassengerId\": test2[\"PassengerId\"],\n",
    "        \"Survived\": preds\n",
    "    })\n",
    "submission.to_csv('submission.csv', index=False)"
   ]
  },
  {
   "cell_type": "code",
   "execution_count": null,
   "metadata": {},
   "outputs": [],
   "source": []
  }
 ],
 "metadata": {
  "kernelspec": {
   "display_name": "Python 3",
   "language": "python",
   "name": "python3"
  },
  "language_info": {
   "codemirror_mode": {
    "name": "ipython",
    "version": 3
   },
   "file_extension": ".py",
   "mimetype": "text/x-python",
   "name": "python",
   "nbconvert_exporter": "python",
   "pygments_lexer": "ipython3",
   "version": "3.7.6"
  },
  "toc": {
   "base_numbering": 1,
   "nav_menu": {},
   "number_sections": true,
   "sideBar": true,
   "skip_h1_title": false,
   "title_cell": "Table of Contents",
   "title_sidebar": "Contents",
   "toc_cell": false,
   "toc_position": {},
   "toc_section_display": true,
   "toc_window_display": false
  }
 },
 "nbformat": 4,
 "nbformat_minor": 4
}
